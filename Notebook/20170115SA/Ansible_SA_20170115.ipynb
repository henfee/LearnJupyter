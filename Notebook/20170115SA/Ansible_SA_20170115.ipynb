{
 "cells": [
  {
   "cell_type": "markdown",
   "metadata": {},
   "source": [
    "# Hello Ansible!"
   ]
  },
  {
   "cell_type": "markdown",
   "metadata": {},
   "source": [
    "### 使用 shift + Enter 執行 Jupyter  內的區塊, 按 a 在上方增加區塊, 按 b 在下方增加區塊\n",
    "### 每個 指令下方預先建立好一個空白的區塊給大家打指令練習\n",
    "### 測試 ansible ping module, 一般來說也是第一個被測試的module 確認主機連線\n",
    "###  語法 ansible <host-pattern> [-f forks] [-m module_name] [-a args]\n",
    "#### ansible -vvvv 可以用來 debug"
   ]
  },
  {
   "cell_type": "code",
   "execution_count": null,
   "metadata": {
    "collapsed": false
   },
   "outputs": [],
   "source": [
    "!ansible test -i hosts -m ping"
   ]
  },
  {
   "cell_type": "code",
   "execution_count": null,
   "metadata": {
    "collapsed": true
   },
   "outputs": [],
   "source": []
  },
  {
   "cell_type": "markdown",
   "metadata": {},
   "source": [
    "### 除了使用主機名稱以外也可以用群組的方式\n",
    "### 剛剛的 hosts 檔案內就有 [sa] 群組的定義"
   ]
  },
  {
   "cell_type": "code",
   "execution_count": null,
   "metadata": {
    "collapsed": false
   },
   "outputs": [],
   "source": [
    "!ansible sa -i hosts -m ping"
   ]
  },
  {
   "cell_type": "code",
   "execution_count": null,
   "metadata": {
    "collapsed": true
   },
   "outputs": [],
   "source": []
  },
  {
   "cell_type": "markdown",
   "metadata": {},
   "source": [
    "### 預設一個群組為 all 就是針對所有的主機"
   ]
  },
  {
   "cell_type": "code",
   "execution_count": null,
   "metadata": {
    "collapsed": false
   },
   "outputs": [],
   "source": [
    "!ansible all -i hosts -m ping"
   ]
  },
  {
   "cell_type": "code",
   "execution_count": null,
   "metadata": {
    "collapsed": true
   },
   "outputs": [],
   "source": []
  },
  {
   "cell_type": "markdown",
   "metadata": {},
   "source": [
    "# --------------------------------------------------------------------------------------------\n",
    "\n",
    "# Hands on Lab with Module\n",
    "\n",
    "# --------------------------------------------------------------------------------------------"
   ]
  },
  {
   "cell_type": "markdown",
   "metadata": {},
   "source": [
    "## Ansible Module 查詢\n",
    "## http://docs.ansible.com/ansible/modules_by_category.html\n",
    "### 以不同功能來分類 Ansible Moduel"
   ]
  },
  {
   "cell_type": "markdown",
   "metadata": {},
   "source": [
    "### 測試 shell module \n",
    "### ansible 對象 -m 模組名稱 -a 要傳入的參數\n"
   ]
  },
  {
   "cell_type": "markdown",
   "metadata": {},
   "source": [
    "### shell module 的好處是可以處理 | pipe 相關處理\n",
    "### 透過 shell 模組執行指令來查詢是否安裝 telnet 套件\n",
    "#### shell module http://docs.ansible.com/ansible/shell_module.html"
   ]
  },
  {
   "cell_type": "code",
   "execution_count": null,
   "metadata": {
    "collapsed": false
   },
   "outputs": [],
   "source": [
    "!ansible all  -m  shell -a 'rpm -qa | grep nagios' "
   ]
  },
  {
   "cell_type": "markdown",
   "metadata": {},
   "source": [
    "### 接下來介紹  setup module\n",
    "### Ansible 會透過 GATHERING FACTS 取得主機資訊\n",
    "### 也可以透過 setup module 來觀察\n",
    "#### setup module 參考 http://docs.ansible.com/ansible/setup_module.html"
   ]
  },
  {
   "cell_type": "code",
   "execution_count": null,
   "metadata": {
    "collapsed": false
   },
   "outputs": [],
   "source": [
    "!ansible test -m setup"
   ]
  },
  {
   "cell_type": "code",
   "execution_count": null,
   "metadata": {
    "collapsed": true
   },
   "outputs": [],
   "source": []
  },
  {
   "cell_type": "markdown",
   "metadata": {},
   "source": [
    "### 我們可以透過 GATHERING FACTS 來取得資訊\n",
    "### 也就是說可以判斷不同的OS 來使用不同的模組 zypper / yum / apt"
   ]
  },
  {
   "cell_type": "markdown",
   "metadata": {},
   "source": [
    "# --------------------------------------------------------------------------------------------\n",
    "\n",
    "# Hands on Lab with playbook\n",
    "\n",
    "# --------------------------------------------------------------------------------------------"
   ]
  },
  {
   "cell_type": "markdown",
   "metadata": {},
   "source": [
    "## 接下來試試看 playbook 吧,  先安裝 nagios server\n",
    "\n",
    "### 請將 test 以及 test2 分別加入 [NagiosServer] 以及 [NagiosClient]\n",
    "\n",
    "# 語法 ansible-playbook < filename.yml \\> ... [options]\n",
    " \n",
    "## 請觀察 nagios_server_install.yml 內容\n",
    "\n",
    "# --------------------------------------------------------------------------------------------\n",
    "\n",
    "### 請開啟終端機 在提示符號下輸入指令\n",
    "### cd    LearnJupyter-master/Notebook/20170115SA/\n",
    "### ansible-playbook     nagios_server_install.yml\n",
    "\n",
    "## 按照需求輸入\n",
    "\n",
    "# --------------------------------------------------------------------------------------------"
   ]
  },
  {
   "cell_type": "markdown",
   "metadata": {},
   "source": [
    "# --------------------------------------------------------------------------------------------\n",
    "\n",
    "## 請觀察 http://指定IP:指定port/nagios\n",
    "\n",
    "# --------------------------------------------------------------------------------------------"
   ]
  },
  {
   "cell_type": "markdown",
   "metadata": {},
   "source": [
    "## 接下來安裝 nagios client\n",
    "\n",
    "## 請觀察 nagios_client_install.yml 內容\n",
    "# --------------------------------------------------------------------------------------------\n",
    "\n",
    "### 請開啟終端機 在提示符號下輸入指令\n",
    "### cd    LearnJupyter-master/Notebook/20170115SA/\n",
    "### ansible-playbook     nagios_client_install.yml\n",
    "\n",
    "## 輸入 server的IP\n",
    "\n",
    "# --------------------------------------------------------------------------------------------"
   ]
  },
  {
   "cell_type": "markdown",
   "metadata": {},
   "source": [
    "# --------------------------------------------------------------------------------------------\n",
    "\n",
    "## 請觀察 http://指定IP:指定port/nagios\n",
    "\n",
    "# --------------------------------------------------------------------------------------------"
   ]
  },
  {
   "cell_type": "markdown",
   "metadata": {
    "collapsed": true
   },
   "source": [
    "\n",
    "\n",
    "\n",
    "\n"
   ]
  }
 ],
 "metadata": {
  "kernelspec": {
   "display_name": "Python 3",
   "language": "python",
   "name": "python3"
  },
  "language_info": {
   "codemirror_mode": {
    "name": "ipython",
    "version": 3
   },
   "file_extension": ".py",
   "mimetype": "text/x-python",
   "name": "python",
   "nbconvert_exporter": "python",
   "pygments_lexer": "ipython3",
   "version": "3.4.5"
  }
 },
 "nbformat": 4,
 "nbformat_minor": 0
}
